{
  "nbformat": 4,
  "nbformat_minor": 0,
  "metadata": {
    "colab": {
      "provenance": []
    },
    "kernelspec": {
      "name": "python3",
      "display_name": "Python 3"
    },
    "language_info": {
      "name": "python"
    }
  },
  "cells": [
    {
      "cell_type": "markdown",
      "source": [
        "## **IMPLEMENTING BACK-PROPOGATION ALGORITHM**"
      ],
      "metadata": {
        "id": "uXGF34terpdX"
      }
    },
    {
      "cell_type": "code",
      "execution_count": 1,
      "metadata": {
        "id": "EC4O0nwWrdw-"
      },
      "outputs": [],
      "source": [
        "import random\n",
        "import numpy as np\n",
        "import pandas as pd\n",
        "from sklearn import datasets\n",
        "import matplotlib.pyplot as plt\n",
        "from sklearn.model_selection import train_test_split"
      ]
    },
    {
      "cell_type": "markdown",
      "source": [
        "### **LOADING THE DATASET**"
      ],
      "metadata": {
        "id": "cMvN1VIT0QSI"
      }
    },
    {
      "cell_type": "code",
      "source": [
        "df = datasets.load_iris()"
      ],
      "metadata": {
        "id": "Oz-xVaH6ymSg"
      },
      "execution_count": 2,
      "outputs": []
    },
    {
      "cell_type": "code",
      "source": [
        "X = df['data']\n",
        "print(X.shape)"
      ],
      "metadata": {
        "colab": {
          "base_uri": "https://localhost:8080/"
        },
        "id": "lUpbQK28zMkz",
        "outputId": "86fb8c3f-c8c5-48a0-d47a-4ad01d87babd"
      },
      "execution_count": 3,
      "outputs": [
        {
          "output_type": "stream",
          "name": "stdout",
          "text": [
            "(150, 4)\n"
          ]
        }
      ]
    },
    {
      "cell_type": "code",
      "source": [
        "df_Y = df['target']\n",
        "print(df_Y.shape)"
      ],
      "metadata": {
        "colab": {
          "base_uri": "https://localhost:8080/"
        },
        "id": "5RB2MZZ6zZPs",
        "outputId": "467d4ba4-e82a-4448-b3a9-50379f30d259"
      },
      "execution_count": 4,
      "outputs": [
        {
          "output_type": "stream",
          "name": "stdout",
          "text": [
            "(150,)\n"
          ]
        }
      ]
    },
    {
      "cell_type": "code",
      "source": [
        "Y = pd.get_dummies(df_Y).values"
      ],
      "metadata": {
        "id": "458oYUrFzcyb"
      },
      "execution_count": 5,
      "outputs": []
    },
    {
      "cell_type": "markdown",
      "source": [
        "### **NECESSARY CONSTANTS**"
      ],
      "metadata": {
        "id": "AC-bFNLe2JLa"
      }
    },
    {
      "cell_type": "code",
      "source": [
        "alpha = 1\n",
        "epochs = list(range(1,201))"
      ],
      "metadata": {
        "id": "S3V3cCIuvSdr"
      },
      "execution_count": 6,
      "outputs": []
    },
    {
      "cell_type": "code",
      "source": [
        "v = np.random.normal(size=(4,2))\n",
        "print(v)"
      ],
      "metadata": {
        "colab": {
          "base_uri": "https://localhost:8080/"
        },
        "id": "JkjA8oRKsC4n",
        "outputId": "d4e996e8-6801-4012-fd4a-1cad1ec0165a"
      },
      "execution_count": 7,
      "outputs": [
        {
          "output_type": "stream",
          "name": "stdout",
          "text": [
            "[[ 0.31334793  0.95811637]\n",
            " [-0.34070983  0.39312461]\n",
            " [ 0.14318899 -0.90416379]\n",
            " [-0.15282477 -2.89933318]]\n"
          ]
        }
      ]
    },
    {
      "cell_type": "code",
      "source": [
        "w = np.random.normal(size=(2,3))\n",
        "print(w)"
      ],
      "metadata": {
        "colab": {
          "base_uri": "https://localhost:8080/"
        },
        "id": "fyNoX-ub3s_A",
        "outputId": "4a8e7d5b-8784-4a4c-9552-44c63b0973fa"
      },
      "execution_count": 8,
      "outputs": [
        {
          "output_type": "stream",
          "name": "stdout",
          "text": [
            "[[-1.34073525 -0.30978762  1.63030853]\n",
            " [ 0.1697412   0.65337362 -0.63308074]]\n"
          ]
        }
      ]
    },
    {
      "cell_type": "code",
      "source": [
        "X_train, X_test, Y_train, Y_test = train_test_split(X,Y, test_size=0.3, random_state=50)"
      ],
      "metadata": {
        "id": "HrBeX3_G4jj5"
      },
      "execution_count": 9,
      "outputs": []
    },
    {
      "cell_type": "markdown",
      "source": [
        "### **NECESSARY FUNCTIONS**"
      ],
      "metadata": {
        "id": "qzpt-CpW0T_r"
      }
    },
    {
      "cell_type": "code",
      "source": [
        "def activation(x):\n",
        "    y = 1 / (1 + np.exp(-x))\n",
        "    return y"
      ],
      "metadata": {
        "id": "6HlY-xLQ0OjR"
      },
      "execution_count": 10,
      "outputs": []
    },
    {
      "cell_type": "code",
      "source": [
        "def error(y, y_hat):\n",
        "    err = np.array((y-y_hat)**2)\n",
        "    err = err.mean()\n",
        "    \n",
        "    return err"
      ],
      "metadata": {
        "id": "DCYGtHjG7tIs"
      },
      "execution_count": 11,
      "outputs": []
    },
    {
      "cell_type": "code",
      "source": [
        "def accuracy(y, y_hat):\n",
        "    acc = 0\n",
        "    acc += np.argmax(y, axis=1) == np.argmax(y_hat, axis=1)\n",
        "    # print(acc)\n",
        "    return acc.mean()"
      ],
      "metadata": {
        "id": "BhJto23R9SBM"
      },
      "execution_count": 12,
      "outputs": []
    },
    {
      "cell_type": "markdown",
      "source": [
        "### **TRAINING FOR EPOCHS**"
      ],
      "metadata": {
        "id": "rjYKdmjBzssE"
      }
    },
    {
      "cell_type": "code",
      "source": [
        "training_acc = []\n",
        "training_err = []\n",
        "v = np.random.normal(size=(4,2))\n",
        "w = np.random.normal(size=(2,3))\n",
        "best = [0, None, None]\n",
        "last = 0\n",
        "for _ in epochs:\n",
        "    z_in = np.dot(X_train, v)\n",
        "\n",
        "    z = []\n",
        "    for zs in z_in:\n",
        "        temp = []\n",
        "        for i in zs:\n",
        "            temp.append(activation(i))\n",
        "        temp = np.array(temp)\n",
        "        z.append(temp)\n",
        "\n",
        "    z = np.array(z)\n",
        "\n",
        "    y_in = np.dot(z, w)\n",
        "\n",
        "    y_hat = []\n",
        "    for ys in y_in:\n",
        "        temp = []\n",
        "        for y in ys:\n",
        "            temp.append(activation(y))\n",
        "        temp = np.array(temp)\n",
        "        y_hat.append(temp)\n",
        "\n",
        "    y_hat = np.array(y_hat)\n",
        "\n",
        "    train_err = error(Y_train, y_hat)\n",
        "    training_err.append(round(train_err, 7))\n",
        "\n",
        "    train_acc = accuracy(Y_train, y_hat)\n",
        "    training_acc.append(round(train_acc, 7))\n",
        "\n",
        "    if (train_acc > best[0]):\n",
        "        best = [train_acc, w, v]\n",
        "\n",
        "    dy = (Y_train - y_hat) * y_hat * (1 - y_hat)\n",
        "    dw = np.dot(z.transpose(), dy)\n",
        "    w += alpha*dw\n",
        "\n",
        "    dz = np.dot(dy,w.transpose()) * z * (1-z)\n",
        "    dv = np.dot(X_train.transpose(), dz)\n",
        "    v += alpha * dv\n",
        "\n",
        "w = best[1]\n",
        "v = best[2]"
      ],
      "metadata": {
        "id": "mvVWDM5DzwkL"
      },
      "execution_count": 13,
      "outputs": []
    },
    {
      "cell_type": "code",
      "source": [
        "training_acc[:5]"
      ],
      "metadata": {
        "colab": {
          "base_uri": "https://localhost:8080/"
        },
        "id": "a_naCbx0HPvP",
        "outputId": "8ee2d654-7e5a-4104-e75d-aeffb745b086"
      },
      "execution_count": 14,
      "outputs": [
        {
          "output_type": "execute_result",
          "data": {
            "text/plain": [
              "[0.3238095, 0.3428571, 0.3428571, 0.3428571, 0.3428571]"
            ]
          },
          "metadata": {},
          "execution_count": 14
        }
      ]
    },
    {
      "cell_type": "code",
      "source": [
        "plt.plot(epochs, training_acc)\n",
        "plt.show()"
      ],
      "metadata": {
        "colab": {
          "base_uri": "https://localhost:8080/",
          "height": 265
        },
        "id": "Brq2ye5e11Vm",
        "outputId": "52550ac0-d58a-47b0-e1c4-29b0ca1ee4fe"
      },
      "execution_count": 15,
      "outputs": [
        {
          "output_type": "display_data",
          "data": {
            "text/plain": [
              "<Figure size 432x288 with 1 Axes>"
            ],
            "image/png": "[encoded data removed]"
          },
          "metadata": {
            "needs_background": "light"
          }
        }
      ]
    },
    {
      "cell_type": "code",
      "source": [
        "training_err[:5]"
      ],
      "metadata": {
        "colab": {
          "base_uri": "https://localhost:8080/"
        },
        "id": "qJJRBywc4bJB",
        "outputId": "7cdd75c5-c734-42f6-c8fe-9244db27e0fb"
      },
      "execution_count": 16,
      "outputs": [
        {
          "output_type": "execute_result",
          "data": {
            "text/plain": [
              "[0.2660993, 0.3227691, 0.2974671, 0.3320086, 0.3317195]"
            ]
          },
          "metadata": {},
          "execution_count": 16
        }
      ]
    },
    {
      "cell_type": "code",
      "source": [
        "me = training_err\n",
        "plt.plot(epochs, me)\n",
        "plt.show()"
      ],
      "metadata": {
        "colab": {
          "base_uri": "https://localhost:8080/",
          "height": 265
        },
        "id": "xk3Zssub2G9H",
        "outputId": "6f63d618-b153-45be-8aed-0f13990b9ee3"
      },
      "execution_count": 17,
      "outputs": [
        {
          "output_type": "display_data",
          "data": {
            "text/plain": [
              "<Figure size 432x288 with 1 Axes>"
            ],
            "image/png": "[encoded data removed]"
          },
          "metadata": {
            "needs_background": "light"
          }
        }
      ]
    },
    {
      "cell_type": "markdown",
      "source": [
        "### **TESTING**"
      ],
      "metadata": {
        "id": "QXW4vJOZw5px"
      }
    },
    {
      "cell_type": "code",
      "source": [
        "z_in = np.dot(X_test, v)\n",
        "print(z_in[:5])\n",
        "print(z_in.shape)"
      ],
      "metadata": {
        "colab": {
          "base_uri": "https://localhost:8080/"
        },
        "outputId": "7254d22b-9521-43d7-f074-6178cb0e920c",
        "id": "r8Y7wFJDxILl"
      },
      "execution_count": 18,
      "outputs": [
        {
          "output_type": "stream",
          "name": "stdout",
          "text": [
            "[[ 23.16902153 177.76248582]\n",
            " [ 25.06279882 189.58584209]\n",
            " [ 18.15220501 168.89747167]\n",
            " [ 18.50687329 174.24550947]\n",
            " [ 27.30013406 202.12320035]]\n",
            "(45, 2)\n"
          ]
        }
      ]
    },
    {
      "cell_type": "code",
      "source": [
        "z = []\n",
        "for zs in z_in:\n",
        "    temp = []\n",
        "    for i in zs:\n",
        "        temp.append(activation(i))\n",
        "    temp = np.array(temp)\n",
        "    z.append(temp)\n",
        "\n",
        "z = np.array(z)\n",
        "print(z[:5])\n",
        "print(z.shape)"
      ],
      "metadata": {
        "colab": {
          "base_uri": "https://localhost:8080/"
        },
        "outputId": "facd3e70-68bc-4101-c715-a4fc9ffa648d",
        "id": "7KyeYRhsxILl"
      },
      "execution_count": 19,
      "outputs": [
        {
          "output_type": "stream",
          "name": "stdout",
          "text": [
            "[[1.         1.        ]\n",
            " [1.         1.        ]\n",
            " [0.99999999 1.        ]\n",
            " [0.99999999 1.        ]\n",
            " [1.         1.        ]]\n",
            "(45, 2)\n"
          ]
        }
      ]
    },
    {
      "cell_type": "code",
      "source": [
        "y_in = np.dot(z, w)\n",
        "print(y_in[:5])\n",
        "print(y_in.shape)"
      ],
      "metadata": {
        "colab": {
          "base_uri": "https://localhost:8080/"
        },
        "outputId": "1d167eb2-873e-4a5f-c0b4-92d0fca5e543",
        "id": "H8-ElewOxILm"
      },
      "execution_count": 20,
      "outputs": [
        {
          "output_type": "stream",
          "name": "stdout",
          "text": [
            "[[-12.57530478  -5.79875593 -14.78731508]\n",
            " [-12.57530478  -5.79875593 -14.78731508]\n",
            " [-12.57530466  -5.79875586 -14.78731496]\n",
            " [-12.57530469  -5.79875588 -14.787315  ]\n",
            " [-12.57530478  -5.79875593 -14.78731508]]\n",
            "(45, 3)\n"
          ]
        }
      ]
    },
    {
      "cell_type": "code",
      "source": [
        "y_hat = []\n",
        "for ys in y_in:\n",
        "    temp = []\n",
        "    for y in ys:\n",
        "        temp.append(activation(y))\n",
        "    temp = np.array(temp)\n",
        "    y_hat.append(temp)\n",
        "\n",
        "y_hat = np.array(y_hat)\n",
        "\n",
        "print(y_hat[:5])\n",
        "print(y_hat.shape)"
      ],
      "metadata": {
        "colab": {
          "base_uri": "https://localhost:8080/"
        },
        "outputId": "e970392e-ebe0-41fc-86a1-b2c81d8efe9d",
        "id": "e9zKC9FvxILm"
      },
      "execution_count": 21,
      "outputs": [
        {
          "output_type": "stream",
          "name": "stdout",
          "text": [
            "[[3.45631269e-06 3.02216242e-03 3.78399447e-07]\n",
            " [3.45631268e-06 3.02216242e-03 3.78399446e-07]\n",
            " [3.45631310e-06 3.02216263e-03 3.78399492e-07]\n",
            " [3.45631298e-06 3.02216256e-03 3.78399479e-07]\n",
            " [3.45631268e-06 3.02216242e-03 3.78399446e-07]]\n",
            "(45, 3)\n"
          ]
        }
      ]
    },
    {
      "cell_type": "code",
      "source": [
        "test_err = error(Y_test, y_hat)\n",
        "print(test_err.mean())"
      ],
      "metadata": {
        "colab": {
          "base_uri": "https://localhost:8080/"
        },
        "outputId": "48100c7b-c14b-493c-dbf8-f33116103edb",
        "id": "nk8vlvPVxILm"
      },
      "execution_count": 22,
      "outputs": [
        {
          "output_type": "stream",
          "name": "stdout",
          "text": [
            "0.332574445274204\n"
          ]
        }
      ]
    },
    {
      "cell_type": "code",
      "source": [
        "test_acc = accuracy(Y_test, y_hat) \n",
        "print(str(round(test_acc*100, 2)) + '%')"
      ],
      "metadata": {
        "colab": {
          "base_uri": "https://localhost:8080/"
        },
        "outputId": "dd1f9e86-e467-41fd-a6d2-b99b74237323",
        "id": "9fVEM-QjxILm"
      },
      "execution_count": 23,
      "outputs": [
        {
          "output_type": "stream",
          "name": "stdout",
          "text": [
            "37.78%\n"
          ]
        }
      ]
    }
  ]
}