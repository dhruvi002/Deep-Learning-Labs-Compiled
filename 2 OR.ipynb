{
 "cells": [
  {
   "cell_type": "code",
   "execution_count": null,
   "metadata": {
    "id": "nD2uUmX4sM1m"
   },
   "outputs": [],
   "source": [
    "import numpy as np"
   ]
  },
  {
   "cell_type": "code",
   "execution_count": null,
   "metadata": {
    "id": "fZ44lemusTw5"
   },
   "outputs": [],
   "source": [
    "def binStep(yin):\n",
    "  if yin<0:\n",
    "    return 0\n",
    "  else:\n",
    "     return 1 "
   ]
  },
  {
   "cell_type": "code",
   "execution_count": null,
   "metadata": {
    "id": "44Gj9PGntBRV"
   },
   "outputs": [],
   "source": [
    "def perceptron(test,w,b):\n",
    "  yin = np.dot(test,w) + b\n",
    "  return binStep(yin)"
   ]
  },
  {
   "cell_type": "code",
   "execution_count": null,
   "metadata": {
    "colab": {
     "base_uri": "https://localhost:8080/"
    },
    "executionInfo": {
     "elapsed": 23,
     "status": "ok",
     "timestamp": 1671248724173,
     "user": {
      "displayName": "Dhruvi Shah",
      "userId": "07737841830520267624"
     },
     "user_tz": -330
    },
    "id": "0MXcUwsBuBQV",
    "outputId": "55ed4ece-9ff1-4eac-f471-d523acb162e1"
   },
   "outputs": [
    {
     "name": "stdout",
     "output_type": "stream",
     "text": [
      "[1 1]\n"
     ]
    }
   ],
   "source": [
    "test11 = np.array([1,1])\n",
    "print(test11)"
   ]
  },
  {
   "cell_type": "code",
   "execution_count": null,
   "metadata": {
    "colab": {
     "base_uri": "https://localhost:8080/"
    },
    "executionInfo": {
     "elapsed": 19,
     "status": "ok",
     "timestamp": 1671248727882,
     "user": {
      "displayName": "Dhruvi Shah",
      "userId": "07737841830520267624"
     },
     "user_tz": -330
    },
    "id": "vod2ucTrv1Ks",
    "outputId": "50aa5fb0-8925-4119-b900-86dc1ca6cc5d"
   },
   "outputs": [
    {
     "name": "stdout",
     "output_type": "stream",
     "text": [
      "[1 0]\n"
     ]
    }
   ],
   "source": [
    "test10 = np.array([1,0])\n",
    "print(test10)"
   ]
  },
  {
   "cell_type": "code",
   "execution_count": null,
   "metadata": {
    "colab": {
     "base_uri": "https://localhost:8080/"
    },
    "executionInfo": {
     "elapsed": 17,
     "status": "ok",
     "timestamp": 1671248730964,
     "user": {
      "displayName": "Dhruvi Shah",
      "userId": "07737841830520267624"
     },
     "user_tz": -330
    },
    "id": "APXMPNfJv59b",
    "outputId": "6cd60f35-e94e-444f-be2a-c9b777d23b3e"
   },
   "outputs": [
    {
     "name": "stdout",
     "output_type": "stream",
     "text": [
      "[0 1]\n"
     ]
    }
   ],
   "source": [
    "test01 = np.array([0,1])\n",
    "print(test01)"
   ]
  },
  {
   "cell_type": "code",
   "execution_count": null,
   "metadata": {
    "colab": {
     "base_uri": "https://localhost:8080/"
    },
    "executionInfo": {
     "elapsed": 51,
     "status": "ok",
     "timestamp": 1671248734746,
     "user": {
      "displayName": "Dhruvi Shah",
      "userId": "07737841830520267624"
     },
     "user_tz": -330
    },
    "id": "JELr-KVMv-nV",
    "outputId": "61cf9efc-8931-4b8c-b0f8-4ffc38e299bf"
   },
   "outputs": [
    {
     "name": "stdout",
     "output_type": "stream",
     "text": [
      "[0 0]\n"
     ]
    }
   ],
   "source": [
    "test00 = np.array([0,0])\n",
    "print(test00)"
   ]
  },
  {
   "cell_type": "code",
   "execution_count": null,
   "metadata": {
    "id": "ilQ1ZHWwuSz9"
   },
   "outputs": [],
   "source": [
    "def OR(test):\n",
    "  w = np.array([1,1])\n",
    "  b = -1\n",
    "  return perceptron(test,w,b)"
   ]
  },
  {
   "cell_type": "code",
   "execution_count": null,
   "metadata": {
    "colab": {
     "base_uri": "https://localhost:8080/"
    },
    "executionInfo": {
     "elapsed": 12,
     "status": "ok",
     "timestamp": 1671249487182,
     "user": {
      "displayName": "Dhruvi Shah",
      "userId": "07737841830520267624"
     },
     "user_tz": -330
    },
    "id": "xWyIDx3uvT4c",
    "outputId": "31f56199-0023-4818-b0cc-4747e68622dd"
   },
   "outputs": [
    {
     "name": "stdout",
     "output_type": "stream",
     "text": [
      "OR for test 1,1: 1\n",
      "OR for test 1,0: 1\n",
      "OR for test 0,1: 1\n",
      "OR for test 0,0: 0\n"
     ]
    }
   ],
   "source": [
    "print(\"OR for test 1,1:\", OR(test11))\n",
    "print(\"OR for test 1,0:\", OR(test10))\n",
    "print(\"OR for test 0,1:\", OR(test01))\n",
    "print(\"OR for test 0,0:\", OR(test00))"
   ]
  }
 ],
 "metadata": {
  "colab": {
   "authorship_tag": "ABX9TyNnOqyDELwsDPWbJ6PhnF1w",
   "provenance": []
  },
  "kernelspec": {
   "display_name": "Python 3 (ipykernel)",
   "language": "python",
   "name": "python3"
  },
  "language_info": {
   "codemirror_mode": {
    "name": "ipython",
    "version": 3
   },
   "file_extension": ".py",
   "mimetype": "text/x-python",
   "name": "python",
   "nbconvert_exporter": "python",
   "pygments_lexer": "ipython3",
   "version": "3.9.7"
  }
 },
 "nbformat": 4,
 "nbformat_minor": 1
}
