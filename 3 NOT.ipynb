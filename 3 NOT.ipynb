{
 "cells": [
  {
   "cell_type": "code",
   "execution_count": null,
   "metadata": {
    "id": "nD2uUmX4sM1m"
   },
   "outputs": [],
   "source": [
    "import numpy as np"
   ]
  },
  {
   "cell_type": "code",
   "execution_count": null,
   "metadata": {
    "id": "fZ44lemusTw5"
   },
   "outputs": [],
   "source": [
    "def binStep(yin):\n",
    "  if yin<0:\n",
    "    return 0\n",
    "  else:\n",
    "     return 1 "
   ]
  },
  {
   "cell_type": "code",
   "execution_count": null,
   "metadata": {
    "id": "44Gj9PGntBRV"
   },
   "outputs": [],
   "source": [
    "def perceptron(test,w,b):\n",
    "  yin = np.dot(test,w) + b\n",
    "  return binStep(yin)"
   ]
  },
  {
   "cell_type": "code",
   "execution_count": null,
   "metadata": {
    "id": "cT8q04gSvXRM"
   },
   "outputs": [],
   "source": [
    "def NOT(test):\n",
    "  w = -1\n",
    "  b = 0\n",
    "  return perceptron(test,w,b)"
   ]
  },
  {
   "cell_type": "code",
   "execution_count": null,
   "metadata": {
    "id": "bCONnh43xrb2"
   },
   "outputs": [],
   "source": [
    "test0 = 0"
   ]
  },
  {
   "cell_type": "code",
   "execution_count": null,
   "metadata": {
    "id": "-S1sSFrvxu5O"
   },
   "outputs": [],
   "source": [
    "test1 = 1"
   ]
  },
  {
   "cell_type": "code",
   "execution_count": null,
   "metadata": {
    "colab": {
     "base_uri": "https://localhost:8080/"
    },
    "executionInfo": {
     "elapsed": 14,
     "status": "ok",
     "timestamp": 1671249497643,
     "user": {
      "displayName": "Dhruvi Shah",
      "userId": "07737841830520267624"
     },
     "user_tz": -330
    },
    "id": "DaYHGZSIxv6t",
    "outputId": "3e665bcb-dd55-4755-b7ae-8add1dd8eef9"
   },
   "outputs": [
    {
     "name": "stdout",
     "output_type": "stream",
     "text": [
      "NOT for test 0: 1\n",
      "NOT for test 1: 0\n"
     ]
    }
   ],
   "source": [
    "print(\"NOT for test 0:\", NOT(test0))\n",
    "print(\"NOT for test 1:\", NOT(test1))"
   ]
  }
 ],
 "metadata": {
  "colab": {
   "authorship_tag": "ABX9TyNnOqyDELwsDPWbJ6PhnF1w",
   "provenance": []
  },
  "kernelspec": {
   "display_name": "Python 3 (ipykernel)",
   "language": "python",
   "name": "python3"
  },
  "language_info": {
   "codemirror_mode": {
    "name": "ipython",
    "version": 3
   },
   "file_extension": ".py",
   "mimetype": "text/x-python",
   "name": "python",
   "nbconvert_exporter": "python",
   "pygments_lexer": "ipython3",
   "version": "3.9.7"
  }
 },
 "nbformat": 4,
 "nbformat_minor": 1
}
