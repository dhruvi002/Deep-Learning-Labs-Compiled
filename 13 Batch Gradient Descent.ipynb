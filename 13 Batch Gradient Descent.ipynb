{
 "cells": [
  {
   "cell_type": "markdown",
   "metadata": {},
   "source": [
    "<h2 style=\"text-align:center; font-weight: 700;\">Optimizers for Supervised Deep Learning models</h2>"
   ]
  },
  {
   "cell_type": "code",
   "execution_count": 10,
   "metadata": {},
   "outputs": [],
   "source": [
    "import numpy as np\n",
    "import math\n",
    "import pandas as pd\n",
    "import matplotlib.pyplot as plt"
   ]
  },
  {
   "cell_type": "markdown",
   "metadata": {},
   "source": [
    "<h3>Auxiliary Functions</h3>"
   ]
  },
  {
   "cell_type": "code",
   "execution_count": 11,
   "metadata": {},
   "outputs": [],
   "source": [
    "def binary_sigmoidal(Y_in):\n",
    "  return 1 / (1 + np.exp(-Y_in))\n",
    "\n",
    "def find_Y_hat(x, w, b):\n",
    "  if type(x) == type([1]) or type(x) == type((1, 2)):  # if list of list or list of tuples is used, individual list/tuple should be handled differently\n",
    "    Y_in = np.dot(x, w) + b                            # layer of input neurons (if list of values passed as neuron)\n",
    "  else:\n",
    "    Y_in = x * w + b\n",
    "  Y_hat = binary_sigmoidal(Y_in)\n",
    "  \n",
    "  return Y_hat"
   ]
  },
  {
   "cell_type": "code",
   "execution_count": 12,
   "metadata": {},
   "outputs": [],
   "source": [
    "def delta_w(x, y, Y_hat):\n",
    "  return(-2 * (y - Y_hat) * Y_hat * (1 - Y_hat) * x)    \n",
    "# derivative of binary sigmoidal is y_hat(1 - y_hat) and no, not y_in, y_hat is correct. Refer notes for more clarity"
   ]
  },
  {
   "cell_type": "code",
   "execution_count": 13,
   "metadata": {},
   "outputs": [],
   "source": [
    "def delta_b(y, Y_hat):\n",
    "  return(-2 * (y - Y_hat) * Y_hat * (1 - Y_hat))"
   ]
  },
  {
   "cell_type": "code",
   "execution_count": 14,
   "metadata": {},
   "outputs": [
    {
     "data": {
      "text/html": [
       "<div>\n",
       "<style scoped>\n",
       "    .dataframe tbody tr th:only-of-type {\n",
       "        vertical-align: middle;\n",
       "    }\n",
       "\n",
       "    .dataframe tbody tr th {\n",
       "        vertical-align: top;\n",
       "    }\n",
       "\n",
       "    .dataframe thead th {\n",
       "        text-align: right;\n",
       "    }\n",
       "</style>\n",
       "<table border=\"1\" class=\"dataframe\">\n",
       "  <thead>\n",
       "    <tr style=\"text-align: right;\">\n",
       "      <th></th>\n",
       "      <th>X</th>\n",
       "      <th>Y</th>\n",
       "    </tr>\n",
       "  </thead>\n",
       "  <tbody>\n",
       "    <tr>\n",
       "      <th>0</th>\n",
       "      <td>0.5</td>\n",
       "      <td>0.2</td>\n",
       "    </tr>\n",
       "    <tr>\n",
       "      <th>1</th>\n",
       "      <td>2.5</td>\n",
       "      <td>0.9</td>\n",
       "    </tr>\n",
       "  </tbody>\n",
       "</table>\n",
       "</div>"
      ],
      "text/plain": [
       "     X    Y\n",
       "0  0.5  0.2\n",
       "1  2.5  0.9"
      ]
     },
     "execution_count": 14,
     "metadata": {},
     "output_type": "execute_result"
    }
   ],
   "source": [
    "# X = [0.5, 2.5, 1.2]       # adding in a third point to make mini-batch GD actually work in mini-batches instead of either being stochastic or batch GD\n",
    "# Y = [0.2, 0.9, 0.4]\n",
    "X = [0.5, 2.5]\n",
    "Y = [0.2, 0.9]\n",
    "noofepochs = 300\n",
    "df = pd.DataFrame([(x, y) for x, y in zip(X, Y)], columns = ['X', 'Y'])\n",
    "df.head()"
   ]
  },
  {
   "cell_type": "markdown",
   "metadata": {
    "slideshow": {
     "slide_type": "subslide"
    }
   },
   "source": [
    "<h3>Batch Gradient Descent</h3>\n",
    "<p style=\"font-size: 14px;\">Weight Updation when: After <i><b>all</b></i> the records (rows) i.e, at the end of every epoch</p>"
   ]
  },
  {
   "cell_type": "code",
   "execution_count": 7,
   "metadata": {},
   "outputs": [],
   "source": [
    "def batch_gradient_descent(X, Y, noofepochs = 300):\n",
    "  w = -2; η = 1; b = -2;\n",
    "  dw, db = 0, 0\n",
    "  y_hat_mega_list = []\n",
    "  error_mega_list = []\n",
    "  weights_mega_list = []\n",
    "  bias_mega_list = []\n",
    "\n",
    "  for i in range(noofepochs):\n",
    "    y_hat_list = []\n",
    "    error_list = []\n",
    "\n",
    "    for x, y in zip(X, Y):\n",
    "      Y_hat = find_Y_hat(x, w, b)\n",
    "      y_hat_list.append(Y_hat)\n",
    "      error_list.append((y - Y_hat) ** 2)\n",
    "      dw += delta_w(x, y, Y_hat)\n",
    "      db += delta_b(y, Y_hat)\n",
    "    \n",
    "    w += (-η * dw / len(X))\n",
    "    b += (-η * db / len(X))\n",
    "    dw, db = 0, 0\n",
    "    y_hat_mega_list.append(y_hat_list)\n",
    "    error_mega_list.append(error_list)\n",
    "    weights_mega_list.append(w)\n",
    "    bias_mega_list.append(b)\n",
    "    # print(f\"Epoch {i + 1}, w = {w} & b = {b} | Y_hat: {y_hat_list}\")\n",
    "    \n",
    "  return y_hat_mega_list, error_mega_list, weights_mega_list, bias_mega_list"
   ]
  },
  {
   "cell_type": "code",
   "execution_count": 8,
   "metadata": {},
   "outputs": [],
   "source": [
    "y_hats_bgd, errors_bgd, weights_bgd, biases_bgd = batch_gradient_descent(X, Y, noofepochs)"
   ]
  },
  {
   "cell_type": "code",
   "execution_count": 9,
   "metadata": {},
   "outputs": [
    {
     "data": {
      "image/png": "[encoded data removed]",
      "text/plain": [
       "<Figure size 432x288 with 1 Axes>"
      ]
     },
     "metadata": {
      "needs_background": "light"
     },
     "output_type": "display_data"
    }
   ],
   "source": [
    "plt.title(\"Avg. Weight v/s No. of Epochs (BGD)\")\n",
    "epoch_range = [i for i in range(noofepochs)]\n",
    "weight_range = [w for w in weights_bgd]\n",
    "plt.plot(epoch_range, weight_range)\n",
    "plt.xlabel('Epochs')\n",
    "plt.ylabel('Avg. Weight')\n",
    "plt.show()"
   ]
  }
 ],
 "metadata": {
  "kernelspec": {
   "display_name": "Python 3 (ipykernel)",
   "language": "python",
   "name": "python3"
  },
  "language_info": {
   "codemirror_mode": {
    "name": "ipython",
    "version": 3
   },
   "file_extension": ".py",
   "mimetype": "text/x-python",
   "name": "python",
   "nbconvert_exporter": "python",
   "pygments_lexer": "ipython3",
   "version": "3.9.7"
  },
  "vscode": {
   "interpreter": {
    "hash": "78f5b707d86fd9281530b9fa2dbdbe1b33232c3b651a8e052360c651d4996094"
   }
  }
 },
 "nbformat": 4,
 "nbformat_minor": 2
}
