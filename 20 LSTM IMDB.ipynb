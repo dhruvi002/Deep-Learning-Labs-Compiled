{
 "cells": [
  {
   "cell_type": "markdown",
   "metadata": {
    "id": "UyZusGpWvGlh"
   },
   "source": [
    "<h2 style=\"font-weight: 700; text-align: center\">Long Short Term Memory (LSTM)</h2>"
   ]
  },
  {
   "cell_type": "markdown",
   "metadata": {
    "id": "JCF___cQvGlj"
   },
   "source": [
    "#### Importing necessary packages/libraries"
   ]
  },
  {
   "cell_type": "code",
   "execution_count": null,
   "metadata": {
    "id": "puzDHNtHvGlj"
   },
   "outputs": [],
   "source": [
    "import numpy\n",
    "import seaborn as sns\n",
    "import tensorflow as tf\n",
    "import matplotlib.pyplot as plt\n",
    "from keras.datasets import imdb\n",
    "from keras.models import Sequential\n",
    "from keras.preprocessing import sequence\n",
    "from keras.layers import Dense, LSTM, Embedding\n",
    "from keras_preprocessing.sequence import pad_sequences"
   ]
  },
  {
   "cell_type": "markdown",
   "metadata": {
    "id": "TIlqVnsFvGlk"
   },
   "source": [
    "#### Importing and arranging data"
   ]
  },
  {
   "cell_type": "code",
   "execution_count": null,
   "metadata": {
    "id": "JiKUhpQwvGll"
   },
   "outputs": [],
   "source": [
    "top_words = 5000\n",
    "(X_train, y_train), (X_test, y_test) = imdb.load_data(num_words=top_words)"
   ]
  },
  {
   "cell_type": "code",
   "execution_count": null,
   "metadata": {
    "colab": {
     "base_uri": "https://localhost:8080/"
    },
    "id": "xoXKVzVhvGll",
    "outputId": "c2413e43-86b2-4176-ced6-3ceb9214ad0b"
   },
   "outputs": [],
   "source": [
    "print(len(X_train[1]))"
   ]
  },
  {
   "cell_type": "markdown",
   "metadata": {
    "id": "kZXhxyV8vGll"
   },
   "source": [
    "<p style=\"font-size: 14px\">Making each review of uniform length, 600 characters</p>"
   ]
  },
  {
   "cell_type": "code",
   "execution_count": null,
   "metadata": {
    "colab": {
     "base_uri": "https://localhost:8080/"
    },
    "id": "QnsIWfsGvGlm",
    "outputId": "d577e0a7-3327-4191-ec45-86bd0a515b92"
   },
   "outputs": [],
   "source": [
    "max_review_length = 600\n",
    "X_train = pad_sequences(X_train, maxlen=max_review_length)\n",
    "X_test = pad_sequences(X_test, maxlen=max_review_length)\n",
    "\n",
    "print(X_train.shape, y_train.shape)\n",
    "print(X_test.shape, y_test.shape)\n"
   ]
  },
  {
   "cell_type": "markdown",
   "metadata": {
    "id": "wemmWJv6vGlm"
   },
   "source": [
    "#### Creating the model"
   ]
  },
  {
   "cell_type": "code",
   "execution_count": null,
   "metadata": {
    "id": "MShi7zPsvGlm"
   },
   "outputs": [],
   "source": [
    "embedding_vector_length = 64\n",
    "\n",
    "model = Sequential([\n",
    "    Embedding(top_words + 1, embedding_vector_length,\n",
    "              input_length=max_review_length),\n",
    "    LSTM(500),\n",
    "    Dense(50, activation='relu'),\n",
    "    Dense(100, activation='relu'),\n",
    "    Dense(100, activation='relu'),\n",
    "    Dense(50, activation='relu'),\n",
    "    Dense(1, activation='sigmoid')\n",
    "])\n",
    "\n",
    "model.compile(loss='binary_crossentropy',\n",
    "              optimizer='adam', metrics=['accuracy'])\n"
   ]
  },
  {
   "cell_type": "code",
   "execution_count": null,
   "metadata": {
    "colab": {
     "base_uri": "https://localhost:8080/"
    },
    "id": "zopq78G5Ulaa",
    "outputId": "3c788901-0fc9-43fd-a84a-f822c4b0d79d"
   },
   "outputs": [],
   "source": [
    "model.summary()"
   ]
  },
  {
   "cell_type": "markdown",
   "metadata": {
    "id": "FDB7vF4hvGln"
   },
   "source": [
    "#### Model Fitting"
   ]
  },
  {
   "cell_type": "code",
   "execution_count": null,
   "metadata": {
    "colab": {
     "base_uri": "https://localhost:8080/"
    },
    "id": "fohglBpIvGln",
    "outputId": "813ec471-7e50-4ec5-ba0a-d0a308ba95bc"
   },
   "outputs": [],
   "source": [
    "hist = model.fit(X_train, y_train, epochs=10, verbose=1, validation_data=(X_test, y_test))"
   ]
  },
  {
   "cell_type": "markdown",
   "metadata": {
    "id": "SjFjlQO4vGln"
   },
   "source": [
    "#### Model Evaluation"
   ]
  },
  {
   "cell_type": "code",
   "execution_count": null,
   "metadata": {
    "id": "n-WyJYh0vGln"
   },
   "outputs": [],
   "source": [
    "scores = model.evaluate(X_test, y_test, verbose=0) "
   ]
  },
  {
   "cell_type": "markdown",
   "metadata": {},
   "source": [
    "###### Validation Accuracy:"
   ]
  },
  {
   "cell_type": "code",
   "execution_count": null,
   "metadata": {
    "colab": {
     "base_uri": "https://localhost:8080/"
    },
    "id": "Qmb2fvBBVTLh",
    "outputId": "227b9159-f16a-457a-c0ec-03a42f36249f"
   },
   "outputs": [],
   "source": [
    "print(scores[1])"
   ]
  },
  {
   "cell_type": "markdown",
   "metadata": {},
   "source": [
    "##### Accuracy v/s Epochs"
   ]
  },
  {
   "cell_type": "code",
   "execution_count": null,
   "metadata": {
    "colab": {
     "base_uri": "https://localhost:8080/",
     "height": 265
    },
    "id": "d1B4ueoRvGln",
    "outputId": "a6e78484-031e-4311-8208-027a2b4c840d"
   },
   "outputs": [],
   "source": [
    "plt.plot(hist.history['accuracy'], color='r')\n",
    "plt.plot(hist.history['val_accuracy'], color='b')\n",
    "plt.legend(['Training Accuracy', 'Testing Accuracy'])\n",
    "plt.show()"
   ]
  },
  {
   "cell_type": "markdown",
   "metadata": {
    "id": "SCCqDhDpvGlo"
   },
   "source": [
    "#### Prediction"
   ]
  },
  {
   "cell_type": "code",
   "execution_count": null,
   "metadata": {
    "colab": {
     "base_uri": "https://localhost:8080/"
    },
    "id": "ARGxOU6uvGlo",
    "outputId": "8cadfcb1-1abd-4c0d-ff36-d2d1696c90a8"
   },
   "outputs": [],
   "source": [
    "y_pred = model.predict(X_test)\n",
    "print(len(y_pred))"
   ]
  },
  {
   "cell_type": "markdown",
   "metadata": {},
   "source": [
    "#### Prediction plot"
   ]
  },
  {
   "cell_type": "code",
   "execution_count": null,
   "metadata": {
    "colab": {
     "base_uri": "https://localhost:8080/",
     "height": 592
    },
    "id": "255ko5-PvGlo",
    "outputId": "c522c618-0580-4b10-af4e-7b315bbdd459"
   },
   "outputs": [],
   "source": [
    "plt.figure(figsize=(15, 10))\n",
    "plt.scatter(range(len(y_pred)), y_pred)\n",
    "plt.show()\n"
   ]
  },
  {
   "cell_type": "markdown",
   "metadata": {},
   "source": [
    "###### As it can be seen, most of the predictions lie at either 0 or 1, we can apply further thresholding to finalize the categories"
   ]
  },
  {
   "cell_type": "markdown",
   "metadata": {
    "id": "cjmMl0BKvGlo"
   },
   "source": [
    "##### Thresholding for 2 final categories"
   ]
  },
  {
   "cell_type": "code",
   "execution_count": null,
   "metadata": {
    "id": "xv6v0h0IvGlo"
   },
   "outputs": [],
   "source": [
    "for i in range(len(y_pred)):\n",
    "    if (y_pred[i] >= 0.5):\n",
    "        y_pred[i] = int(1)\n",
    "    else:\n",
    "        y_pred[i] = int(0)\n"
   ]
  },
  {
   "cell_type": "markdown",
   "metadata": {},
   "source": [
    "##### Final evaluation"
   ]
  },
  {
   "cell_type": "code",
   "execution_count": null,
   "metadata": {
    "colab": {
     "base_uri": "https://localhost:8080/"
    },
    "id": "yFOfHzXYvGlo",
    "outputId": "7ac7af7e-6bd1-46c2-9dad-48236edcabfa"
   },
   "outputs": [],
   "source": [
    "incorr = 0\n",
    "for i in range(len(y_pred)):\n",
    "    if y_pred[i] != y_test[i]:\n",
    "        incorr += 1\n",
    "\n",
    "print(incorr, '/', len(y_pred))\n"
   ]
  },
  {
   "cell_type": "code",
   "execution_count": null,
   "metadata": {
    "colab": {
     "base_uri": "https://localhost:8080/",
     "height": 497
    },
    "id": "ATGd3w0hvGlp",
    "outputId": "70474cdd-e05a-40d7-b4a9-077527c2da4b"
   },
   "outputs": [],
   "source": [
    "confuse_mat = tf.math.confusion_matrix(labels=y_pred, predictions=y_test)\n",
    "plt.figure(figsize=(15, 8))\n",
    "sns.heatmap(confuse_mat, annot=True, fmt='d')\n",
    "plt.xlabel('Predicted Value')\n",
    "plt.ylabel('True Value')\n",
    "plt.show()\n"
   ]
  },
  {
   "cell_type": "code",
   "execution_count": null,
   "metadata": {},
   "outputs": [],
   "source": []
  }
 ],
 "metadata": {
  "accelerator": "GPU",
  "colab": {
   "provenance": []
  },
  "gpuClass": "standard",
  "kernelspec": {
   "display_name": "Python 3 (ipykernel)",
   "language": "python",
   "name": "python3"
  },
  "language_info": {
   "codemirror_mode": {
    "name": "ipython",
    "version": 3
   },
   "file_extension": ".py",
   "mimetype": "text/x-python",
   "name": "python",
   "nbconvert_exporter": "python",
   "pygments_lexer": "ipython3",
   "version": "3.9.7"
  },
  "vscode": {
   "interpreter": {
    "hash": "78f5b707d86fd9281530b9fa2dbdbe1b33232c3b651a8e052360c651d4996094"
   }
  }
 },
 "nbformat": 4,
 "nbformat_minor": 1
}
